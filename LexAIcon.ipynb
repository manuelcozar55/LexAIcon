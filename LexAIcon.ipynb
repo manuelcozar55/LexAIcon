{
  "nbformat": 4,
  "nbformat_minor": 0,
  "metadata": {
    "colab": {
      "provenance": [],
      "machine_shape": "hm",
      "gpuType": "A100",
      "include_colab_link": true
    },
    "kernelspec": {
      "name": "python3",
      "display_name": "Python 3"
    },
    "language_info": {
      "name": "python"
    },
    "accelerator": "GPU"
  },
  "cells": [
    {
      "cell_type": "markdown",
      "metadata": {
        "id": "view-in-github",
        "colab_type": "text"
      },
      "source": [
        "<a href=\"https://colab.research.google.com/github/manuelcozar55/LexAIcon/blob/main/LexAIcon.ipynb\" target=\"_parent\"><img src=\"https://colab.research.google.com/assets/colab-badge.svg\" alt=\"Open In Colab\"/></a>"
      ]
    },
    {
      "cell_type": "markdown",
      "source": [
        "![](https://drive.google.com/file/d/16jpfHHE2X4fcsx4CjZPqcqLBItGmajuC/view?usp=drive_link)\n",
        "### LexAIcon: Traduce, resume y explica tus textos legales."
      ],
      "metadata": {
        "id": "qfEHiDxpnk2h"
      }
    },
    {
      "cell_type": "markdown",
      "source": [
        "Primero se instalan los diferentes elementos necesarios, se realizan los imports y se conecta con la API de Huggingface y a Google Drive"
      ],
      "metadata": {
        "id": "7nsGfc4565M6"
      }
    },
    {
      "cell_type": "code",
      "execution_count": null,
      "metadata": {
        "id": "oa9qSDOqyRQO"
      },
      "outputs": [],
      "source": [
        "!pip -q install transformers sentencepiece PyPDF2 python-docx torch faiss-cpu huggingface_hub langchain langchain_community accelerate sentence-transformers\n",
        "!pip -q install -i https://pypi.org/simple/ bitsandbytes\n",
        "\n",
        "from transformers import pipeline, AutoTokenizer, AutoModelForCausalLM, AutoConfig, AutoModelForSequenceClassification, BitsAndBytesConfig\n",
        "from langchain_community.llms import HuggingFacePipeline\n",
        "from langchain.prompts import PromptTemplate\n",
        "from langchain.chains import RetrievalQA,LLMChain\n",
        "from langchain_community.embeddings import HuggingFaceEmbeddings\n",
        "from PyPDF2 import PdfReader\n",
        "from docx import Document\n",
        "import csv\n",
        "import json\n",
        "import torch\n",
        "from langchain_community.vectorstores import FAISS\n",
        "from langchain.text_splitter import RecursiveCharacterTextSplitter\n",
        "from huggingface_hub import login\n",
        "from google.colab import userdata\n",
        "from google.colab import drive\n",
        "\n",
        "token=userdata.get('HF_API')\n",
        "\n",
        "login(token)\n",
        "\n",
        "drive.mount('/content/Mydrive/')"
      ]
    },
    {
      "cell_type": "markdown",
      "source": [
        "A continuación se configura el modelo LLM y al ejecutar se intstalara todo lo necesario para utilizarlo."
      ],
      "metadata": {
        "id": "Vpr7zjJn7ACd"
      }
    },
    {
      "cell_type": "code",
      "source": [
        "# Configurar modelo y tokenizador\n",
        "model_name = 'Equall/Saul-7B-Instruct-v1'\n",
        "model_config = AutoConfig.from_pretrained(model_name)\n",
        "tokenizer = AutoTokenizer.from_pretrained(model_name, trust_remote_code=True)\n",
        "tokenizer.pad_token = tokenizer.eos_token\n",
        "tokenizer.padding_side = \"right\"\n",
        "\n",
        "\n",
        "text_generation_pipeline = pipeline(\n",
        "    model=model_name,\n",
        "    tokenizer=tokenizer,\n",
        "    task=\"text-generation\",\n",
        "    repetition_penalty=1.1,\n",
        "    return_full_text=True,\n",
        "    max_new_tokens=1000,\n",
        ")\n",
        "\n",
        "prompt_template = \"\"\"\n",
        "### [INST]\n",
        "Instrucción: Responda a la pregunta basándose en su conocimiento y en el contexto proporcionado. Asegúrese de que la respuesta sea precisa y detallada, conservando el significado original y utilizando terminología legal adecuada.\n",
        "\n",
        "### CONTEXTO:\n",
        "{context}\n",
        "\n",
        "### PREGUNTA:\n",
        "{question}\n",
        "[/INST]\n",
        "\"\"\"\n",
        "\n",
        "saul_llm = HuggingFacePipeline(pipeline=text_generation_pipeline)\n",
        "\n",
        "# Crear el prompt desde la plantilla de prompt\n",
        "prompt = PromptTemplate(\n",
        "    input_variables=[\"context\", \"question\"],\n",
        "    template=prompt_template,\n",
        ")\n",
        "\n",
        "# Crear la cadena LLM\n",
        "llm_chain = LLMChain(llm=saul_llm, prompt=prompt)"
      ],
      "metadata": {
        "id": "Br5JPMEbycOP"
      },
      "execution_count": null,
      "outputs": []
    },
    {
      "cell_type": "markdown",
      "source": [
        "En la siguiente sección podemos encontrar todos los compnentes necesarios par la clasificación."
      ],
      "metadata": {
        "id": "VLHzNoWNCnIw"
      }
    },
    {
      "cell_type": "code",
      "source": [
        "# Cargar modelo clasificador de Huggingface\n",
        "#def load_classification_model():\n",
        " #   tokenizer = AutoTokenizer.from_pretrained(\"mrm8488/legal-longformer-base-8192-spanish\")\n",
        "  #  model = AutoModelForSequenceClassification.from_pretrained(\"mrm8488/legal-longformer-base-8192-spanish\")\n",
        "   # return model, tokenizer\n",
        "\n",
        "# Cargar modelo clasificacdor entrenado\n",
        "def load_classification_model():\n",
        "  #Ruta a los archivos de modelo con fine tunning\n",
        "  model_path = '/content/Mydrive/MyDrive/LexAIcon/MLM_Fine_tunned'\n",
        "  #Cargar el tokenizer\n",
        "  tokenizer = AutoTokenizer.from_pretrained(model_path, local_files_only=True)\n",
        "  #Cargar el modelo usando el archivo safetensors\n",
        "  model = AutoModelForSequenceClassification.from_pretrained(model_path, from_tf=False, from_flax=False, torch_dtype=None, use_safetensors=True)\n",
        "  return model, tokenizer\n",
        "\n",
        "# Cargar modelo de clasificación\n",
        "classification_model, classification_tokenizer = load_classification_model()\n",
        "\n",
        "# Establecer etiquetas para cada tipo dentro de la clasificación\n",
        "id2label = {0: \"multas\", 1: \"politicas_de_privacidad\", 2: \"contratos\", 3: \"denuncias\", 4: \"otros\"}\n",
        "\n",
        "# Función clasificadora\n",
        "def classify_text(text):\n",
        "    inputs = classification_tokenizer(text, return_tensors=\"pt\", max_length=4096, truncation=True, padding=\"max_length\")\n",
        "    classification_model.eval()\n",
        "    with torch.no_grad():\n",
        "        outputs = classification_model(**inputs)\n",
        "    logits = outputs.logits\n",
        "    predicted_class_id = logits.argmax(dim=-1).item()\n",
        "    predicted_label = id2label[predicted_class_id]\n",
        "    return predicted_label"
      ],
      "metadata": {
        "id": "ljqm_5tKe4Bn"
      },
      "execution_count": null,
      "outputs": []
    },
    {
      "cell_type": "markdown",
      "source": [
        "En la siguiente sección tenemos el codigo de las tres funcionalidades, resumen traduccion y explicación que consiste en una clasificación y preguntas a un documento con el contexto mas relevante gracias a la comparacion de embeddings de la query del usuario y el documento de preguntas y respuesta procesado."
      ],
      "metadata": {
        "id": "O0hpEHftCDZu"
      }
    },
    {
      "cell_type": "code",
      "source": [
        "# Función para cargar documentos JSON\n",
        "def load_json_documents(file_path):\n",
        "    with open(file_path, 'r', encoding='utf-8') as file:\n",
        "        json_data = json.load(file)\n",
        "    documents = [{\"page_content\": entry[\"question\"] + \" \" + entry[\"answer\"]} for entry in json_data[\"questions_and_answers\"]]\n",
        "    return documents\n",
        "\n",
        "# Configuración de FAISS (base de datos vectorial) y embeddings\n",
        "def create_vector_store(docs):\n",
        "    modelPath = \"nlpaueb/legal-bert-base-uncased\"\n",
        "    model_kwargs = {'device': 'cpu'}\n",
        "    encode_kwargs = {'normalize_embeddings': False}\n",
        "\n",
        "    embeddings = HuggingFaceEmbeddings(\n",
        "        model_name=modelPath,\n",
        "        model_kwargs=model_kwargs,\n",
        "        encode_kwargs=encode_kwargs\n",
        "    )\n",
        "\n",
        "    text_splitter = RecursiveCharacterTextSplitter(chunk_size=1000, chunk_overlap=150)\n",
        "    split_docs = []\n",
        "    for doc in docs:\n",
        "        split_docs.extend([{\"page_content\": fragment} for fragment in text_splitter.split_text(doc[\"page_content\"])])\n",
        "\n",
        "    vector_store = FAISS.from_texts([doc[\"page_content\"] for doc in split_docs], embedding=embeddings)\n",
        "    return vector_store\n",
        "\n",
        "# Función para traducir texto\n",
        "def translate(text, target_language):\n",
        "    context = \"Eres un experto traductor de textos legales.\"\n",
        "    question = f\"Por favor, traduzca el siguiente documento al {target_language} de manera precisa y detallada, asegurándose de conservar el significado original del documento. El texto contiene términos legales que deben ser traducidos con exactitud:\\n\\n{text}\"\n",
        "    response = llm_chain.invoke({\"context\": context, \"question\": question})\n",
        "    return response\n",
        "\n",
        "# Función para resumir texto\n",
        "def summarize(text, summary_length):\n",
        "    context = \"Eres un experto en resumen de textos legales.\"\n",
        "    if summary_length == \"corto\":\n",
        "        length = \"50 palabras\"\n",
        "    elif summary_length == \"medio\":\n",
        "        length = \"100 palabras\"\n",
        "    elif summary_length == \"largo\":\n",
        "        length = \"500 palabras\"\n",
        "    else:\n",
        "        raise ValueError(\"La longitud del resumen debe ser 'corto', 'medio' o 'largo'.\")\n",
        "\n",
        "    question = f\"Por favor, haga un resumen de aproximadamente {length} del siguiente documento legal. Asegúrese de que el resumen sea conciso y que conserve el significado y los detalles críticos del documento original:\\n\\n{text}\"\n",
        "    response = llm_chain.invoke({\"context\": context, \"question\": question})\n",
        "    return response\n",
        "\n",
        "# Función para explicación, primero clasifica el texto y luego se pueden hacer preguntas al documento.\n",
        "# Parámetros son user_input: pregunta del usuario, y document_text: documento introducido por el usuario.\n",
        "def explain_text(user_input, document_text):\n",
        "    classification = classify_text(document_text)\n",
        "    print({\"Texto clasificado como: \": classification})\n",
        "\n",
        "    context = \"\"\n",
        "    file_path = None\n",
        "    if classification == \"multas\":\n",
        "        file_path = \"/content/Mydrive/MyDrive/LexAIcon/multas_zgz.json\"\n",
        "    elif classification == \"denuncias\":\n",
        "        file_path = \"/content/MyDrive/MyDrive/LexAIcon/denuncias.json\"\n",
        "\n",
        "    if file_path:\n",
        "        docs = load_json_documents(file_path)\n",
        "        if docs:\n",
        "            vector_store = create_vector_store(docs)\n",
        "            retriever = vector_store.as_retriever()\n",
        "            qa = RetrievalQA.from_chain_type(\n",
        "                llm=saul_llm,\n",
        "                chain_type=\"stuff\",\n",
        "                retriever=retriever\n",
        "            )\n",
        "            #query_with_context = f\"{document_text}\\n\\nPregunta: {user_input}\" Al añadir el documento la informacion de contexto\n",
        "            #result = qa.invoke(query_with_context)\n",
        "            result = qa.invoke(user_input)\n",
        "        else:\n",
        "            response = \"No se encontraron documentos.\"\n",
        "    else:\n",
        "        print(\"Clasificación no reconocida.\")\n",
        "        result = llm_chain.invoke({\"context\": document_text, \"question\": user_input})\n",
        "\n",
        "    return result"
      ],
      "metadata": {
        "id": "St-PeKFGCC3O"
      },
      "execution_count": null,
      "outputs": []
    },
    {
      "cell_type": "markdown",
      "source": [
        "Ahora vamos con la parte de las pruebas a continuación se exponen 4 pruebas completas, una por cada tipo de texto, para entender el funcionamiento de la herramienta\n",
        "\n",
        "*   Primero inicializamos el texto a introducir, el archivo que traduciremos resumiremos o le preguntaremos cosas.\n",
        "*   Después se llama a cada una de las funciones con los parámetros correctos y se imprimen sus respuestas.\n",
        "\n"
      ],
      "metadata": {
        "id": "l_iyOOJbNSNF"
      }
    },
    {
      "cell_type": "code",
      "source": [
        "#Ejemplo multa zona azul\n",
        "document_text=\"MULTA POR INCUMPLIMIENTO DE NORMATIVA DE ESTACIONAMIENTO EN ZONA AZUL\\n\\nFecha de la Infracción: 15 de Mayo de 2024\\n\\nHora de la Infracción: 10:45 AM\\n\\nLugar de la Infracción: Calle Alfonso I, 125, Zaragoza, España\\n\\nNúmero de Expediente: ZA-2024-00567\\n\\nMatrícula del Vehículo: 1234ABC\\n\\nDescripción de la Infracción:\\n\\nEl vehículo con matrícula 1234ABC se encontraba estacionado en una zona de estacionamiento regulado (Zona Azul) sin exhibir el correspondiente ticket de pago visible en el parabrisas. Según la normativa vigente, es obligatorio adquirir y mostrar el ticket de estacionamiento en un lugar visible del vehículo.\\n\\nNormativa Aplicable:\\n\\nDe acuerdo con la Ordenanza Municipal de Estacionamiento Regulado de Zaragoza, artículo 5, sección 3, es obligatorio que todos los vehículos estacionados en la Zona Azul dispongan del ticket de estacionamiento correspondiente y que este sea claramente visible.\\n\\nImporte de la Multa:\\n\\nEl importe de la multa por esta infracción es de 60 euros.\\n\\nInstrucciones de Pago:\\n\\nEl pago de la multa debe realizarse en un plazo de 30 días naturales a partir de la fecha de la notificación de la multa. El pago puede realizarse de las siguientes maneras:\\n- En línea a través de la página web del Ayuntamiento de Zaragoza.\\n- En cualquier oficina de atención al ciudadano del Ayuntamiento.\\n- Mediante transferencia bancaria a la cuenta indicada en la notificación recibida por correo.\\n\\nDerecho de Alegación:\\n\\nEl infractor tiene derecho a presentar alegaciones contra esta multa en un plazo de 15 días hábiles a partir de la fecha de la notificación. Las alegaciones deben presentarse por escrito y pueden ser entregadas en cualquiera de las oficinas de atención al ciudadano del Ayuntamiento o enviadas por correo postal a la dirección indicada en la notificación.\\n\\nNotificación:\\n\\nLa presente notificación se envía al titular del vehículo registrado en la Dirección General de Tráfico. En caso de que los datos del titular no estén actualizados, se ruega que se actualicen a la mayor brevedad posible para evitar futuras incidencias.\"\n",
        "\n",
        "# Ejemplo para Explicar\n",
        "user_input = \"¿Dónde se pueden pagar las multas de tráfico?\"\n",
        "result = explain_text(user_input, document_text)\n",
        "print(f\"Resultado: {result}\")\n",
        "\n",
        "# Ejemplo para Traducir\n",
        "target_language = \"inglés\"\n",
        "result = translate(document_text, target_language)\n",
        "print(f\"Resultado: {result}\")\n",
        "\n",
        "# Ejemplo para Resumir\n",
        "summary_length = \"medio\"\n",
        "result = summarize(document_text, summary_length)\n",
        "print(f\"Resultado: {result}\")"
      ],
      "metadata": {
        "id": "T6-eNkJbZhXZ"
      },
      "execution_count": null,
      "outputs": []
    },
    {
      "cell_type": "markdown",
      "source": [
        "En este segundo ejemplo introducimos una denuncia como texto de entrada, para poder utilizar el archivo denuncias.json para RAG."
      ],
      "metadata": {
        "id": "YnfFfyOmPnFk"
      }
    },
    {
      "cell_type": "code",
      "source": [
        "# Ejemplo denuncia penal\n",
        "document_text=\"Denuncia penal Al Juzgado de Instrucción de… que por turno corresponda D/Dª…, [en su caso, en nombre y representación de…] con domicilio a efectos de notificaciones en…, comparezco y como mejor proceda\\n\\nDIGO\\n\\nQue por medio del presente escrito y conforme se dispone en los artículos 259 y siguientes de la Ley de Enjuiciamiento Criminal vengo a formular DENUNCIA contra… por un DELITO CONTRA…, tal y como se detalla a continuación.\\nLa presente DENUNCIA  se basa en los siguientes:\\n\\nHECHOS\\n\\nI.  Que …\\n\\nII. …\\n\\nA los expresados hechos le son de aplicación los siguientes,\\n\\nFUNDAMENTOS DE DERECHO\\n\\nPrimero.- Que los citados hechos podrían ser constitutivos del delito  tipificado en el artículo… del Código Penal, el cual dispone que…\\n\\nSegundo.- Que se propone, a los oportunos efectos acreditativos de los hechos anteriormente narrados, la práctica de las siguientes diligencias probatorias:\\n1.  Se tengan por acompañados los documentos UNO a CINCO consistentes en…\\n2.  Se oficie al Servicio de Protección de la Naturaleza de la Guardia Civil a los efectos de que informe de…\\n3.  Se reciba declaración en calidad de imputado a D./Dª…. con domicilio en…\\n4.  Se reciba declaración en calidad de testigo a D/Dª… con domicilio en…\\n5.  Aquellas otras que se deriven de las anteriores y sirvan para el esclarecimiento de los hechos.\\n\\nPor lo expuesto,\\nAL JUZGADO SOLICITO que teniendo por presentado este escrito, con sus copias se sirva admitir la presente DENUNCIA contra… acordando la incoación de diligencias previas y la averiguación de los hechos que en el presente escrito se relatan al objeto de esclarecer las eventuales responsabilidades penales dimanantes de los mismos.\\n\\nOTROSÍ DIGO que, siendo intención de este denunciante mostrarse parte en las Diligencias que se instruyesen a raíz del presente escrito de denuncia como acusación particular o popular, interesa a nuestro derecho y así\\nSOLICITO que incoado que sea el oportuno procedimiento penal, se cite a esta parte denunciante a fin de ratificar y en su caso ampliar la presente denuncia y se le realice el correspondiente ofrecimiento de acciones conforme dispone el artículo 776 LECrim.\\nLugar, fecha y firma.\\nRecurriremos a la denuncia penal en lugar de a la administrativa cuando los hechos que pretendamos denunciar puedan ser constitutivos de delito. Es decir, cuando estén tipificados como tal en el Código Penal.\\nLos delitos contra el medio ambiente se regulan en el Título XVI del CP, artículos 319 a 340 y los delitos de incendio en los artículos 351 a 358. Te recomendamos la consulta a la “Guía práctica de los delitos ecológicos”, de la colección Cuadernos prácticos de Ecologistas en Acción.\\nTambién podemos dirigir nuestra denuncia a la Guardia Civil (especialmente al Servicio de Protección de la Naturaleza –SEPRONA- de la comarca) o a la Fiscalía (lo que puede ser especialmente interesante allí dónde se hayan creado Fiscalías especializadas en medio ambiente y urbanismo).\\nLas indicaciones de la denuncia administrativa son igualmente aplicables en este modelo.\\nPor ejemplo, “del delito contra la fauna tipificado en el artículo 334.1 del Código Penal”.\\nFotografías, videos, croquis, informes, etc. La documentación oportuna de que dispongamos para acreditar los hechos que denunciamos.\\nSi lo conocemos, en caso contrario podemos señalar simplemente “cuyos demás datos personales se desconocen” o que “puede ser citado en … que constituye su lugar de trabajo”, por ejemplo.\\nSi la denuncia se realiza al Ministerio Fiscal ha de tenerse en cuenta que no existe la posibilidad de personarse en las Diligencias de Investigación Fiscal que éste incoe, pero sí podemos solicitar que “se nos comunique ‘la resolución que adopte el Fiscal por la que concluya las presentes diligencias de investigación’” a que se refiere el Apartado XI de la Circular 4/2013 de la Fiscalía General del Estado, interesándose asimismo que, judicializada sea la causa, se nos realice el correspondiente ofrecimiento de acciones del artículo 776 LECrim”.\"\n",
        "\n",
        "# Ejemplo para Explicar\n",
        "user_input = \"¿Que pasos sigue una denuncia una vez presentada?\"\n",
        "result = explain_text(user_input, document_text)\n",
        "print(f\"Resultado: {result}\")\n",
        "\n",
        "# Ejemplo para Traducir\n",
        "target_language = \"francés\"\n",
        "result = translate(document_text, target_language)\n",
        "print(f\"Resultado: {result}\")\n",
        "\n",
        "# Ejemplo para Resumir\n",
        "summary_length = \"largo\"\n",
        "result = summarize(document_text, summary_length)\n",
        "print(f\"Resultado: {result}\")"
      ],
      "metadata": {
        "id": "AQ7Wews0Ov5f"
      },
      "execution_count": null,
      "outputs": []
    },
    {
      "cell_type": "markdown",
      "source": [
        "Y por último ejemplo se incluye una política de privacidad para verificar un correcto funcionamiento de toda la funcionalidad."
      ],
      "metadata": {
        "id": "ajxvf08qQK-r"
      }
    },
    {
      "cell_type": "code",
      "source": [
        "# Ejemplo politica de privacidad\n",
        "document_text=\"POLÍTICA DE PRIVACIDAD\\nEl presente Política de Privacidad establece los términos en que  usa y protege la información que es proporcionada por sus usuarios al momento de utilizar su sitio web. Esta compañía está comprometida con la seguridad de los datos de sus usuarios. Cuando le pedimos llenar los campos de información personal con la cual usted pueda ser identificado, lo hacemos asegurando que sólo se empleará de acuerdo con los términos de este documento. Sin embargo esta Política de Privacidad puede cambiar con el tiempo o ser actualizada por lo que le recomendamos y enfatizamos revisar continuamente esta página para asegurarse que está de acuerdo con dichos cambios.\\n\\nInformación que es recogida\\n\\nNuestro sitio web podrá recoger información personal por ejemplo: Nombre,  información de contacto como  su dirección de correo electrónica e información demográfica. Así mismo cuando sea necesario podrá ser requerida información específica para procesar algún pedido o realizar una entrega o facturación.\\n\\nUso de la información recogida\\n\\nNuestro sitio web emplea la información con el fin de proporcionar el mejor servicio posible, particularmente para mantener un registro de usuarios, de pedidos en caso que aplique, y mejorar nuestros productos y servicios.  Es posible que sean enviados correos electrónicos periódicamente a través de nuestro sitio con ofertas especiales, nuevos productos y otra información publicitaria que consideremos relevante para usted o que pueda brindarle algún beneficio, estos correos electrónicos serán enviados a la dirección que usted proporcione y podrán ser cancelados en cualquier momento.\\n\\n está altamente comprometido para cumplir con el compromiso de mantener su información segura. Usamos los sistemas más avanzados y los actualizamos constantemente para asegurarnos que no exista ningún acceso no autorizado.\\n\\nCookies\\n\\nUna cookie se refiere a un fichero que es enviado con la finalidad de solicitar permiso para almacenarse en su ordenador, al aceptar dicho fichero se crea y la cookie sirve entonces para tener información respecto al tráfico web, y también facilita las futuras visitas a una web recurrente. Otra función que tienen las cookies es que con ellas las web pueden reconocerte individualmente y por tanto brindarte el mejor servicio personalizado de su web.\\n\\nNuestro sitio web emplea las cookies para poder identificar las páginas que son visitadas y su frecuencia. Esta información es empleada únicamente para análisis estadístico y después la información se elimina de forma permanente. Usted puede eliminar las cookies en cualquier momento desde su ordenador. Sin embargo las cookies ayudan a proporcionar un mejor servicio de los sitios web, estás no dan acceso a información de su ordenador ni de usted, a menos de que usted así lo quiera y la proporcione directamente . Usted puede aceptar o negar el uso de cookies, sin embargo la mayoría de navegadores aceptan cookies automáticamente pues sirve para tener un mejor servicio web. También usted puede cambiar la configuración de su ordenador para declinar las cookies. Si se declinan es posible que no pueda utilizar algunos de nuestros servicios.\\n\\nEnlaces a Terceros\\n\\nEste sitio web pudiera contener en laces a otros sitios que pudieran ser de su interés. Una vez que usted de clic en estos enlaces y abandone nuestra página, ya no tenemos control sobre al sitio al que es redirigido y por lo tanto no somos responsables de los términos o privacidad ni de la protección de sus datos en esos otros sitios terceros. Dichos sitios están sujetos a sus propias políticas de privacidad por lo cual es recomendable que los consulte para confirmar que usted está de acuerdo con estas.\\n\\nControl de su información personal\\n\\nEn cualquier momento usted puede restringir la recopilación o el uso de la información personal que es proporcionada a nuestro sitio web.  Cada vez que se le solicite rellenar un formulario, como el de alta de usuario, puede marcar o desmarcar la opción de recibir información por correo electrónico.  En caso de que haya marcado la opción de recibir nuestro boletín o publicidad usted puede cancelarla en cualquier momento.\\n\\nEsta compañía no venderá, cederá ni distribuirá la información personal que es recopilada sin su consentimiento, salvo que sea requerido por un juez con un orden judicial.\\n\\n Se reserva el derecho de cambiar los términos de la presente Política de Privacidad en cualquier momento.\"\n",
        "\n",
        "# Ejemplo para Explicar\n",
        "user_input = \"¿Que es una politica privacidad y para que sirve?\"\n",
        "result = explain_text(user_input, document_text)\n",
        "print(f\"Resultado: {result}\")\n",
        "\n",
        "# Ejemplo para Traducir\n",
        "target_language = \"italiano\"\n",
        "result = translate(document_text, target_language)\n",
        "print(f\"Resultado: {result}\")\n",
        "\n",
        "# Ejemplo para Resumir\n",
        "summary_length = \"corto\"\n",
        "result = summarize(document_text, summary_length)\n",
        "print(f\"Resultado: {result}\")"
      ],
      "metadata": {
        "id": "PufyCkfKPuoT"
      },
      "execution_count": null,
      "outputs": []
    },
    {
      "cell_type": "markdown",
      "source": [
        "Y por último terminamos con un contrato."
      ],
      "metadata": {
        "id": "6Jgtb02lWeso"
      }
    },
    {
      "cell_type": "code",
      "source": [
        "# Ejemplo politica de privacidad\n",
        "document_text=\"Contrato de compraventa de un vehículo usado entre particulares\\nEn ........................... a.......... de .................... de 20...... HORA: ………………………..\\nVendedor:\\nD. ……………………………….…….……………………., con N.I.F. nº …………….……….………, y domicilio en ……………………….…., calle de ………………….……………..\\nComprador:\\nD. ………………………….…………….……….…………, con N.I.F. nº ……………….………………, y domicilio en........................................…., calle de…………….……….…….Vehículo:\\nMarca: ...........................\\nMatrícula: ...........................\\nNº de Bastidor: …………………………………..\\nKilómetros:………………….Reunidos vendedor y comprador en la fecha del encabezamiento, manifiestan haber acordado formalizar en este documento CONTRATO DE COMPRAVENTA del vehículo automóvil que se especifica, en las siguientes\\nCONICIONES\\n1ª) El vendedor vende al comprador el vehículo de su propiedad anteriormente especificado por la cantidad de …………… euros, sin incluir los impuestos correspondientes, que serán a cargo del comprador.\\n2ª) El vendedor declara que no pesa sobre el vehículo ninguna carga o gravamen ni impuesto, deuda o sanción pendientes de abono en la fecha de la firma de este contrato, comprometiéndose en caso contrario a regularizar tal situación a su exclusivo cargo.\\n3ª) El vendedor se compromete a facilitar los distintos documentos relativos al vehículo, así como a firmar cuantos documentos aparte de éste sean necesarios para que el vehículo quede correctamente inscrito a nombre del comprador en los correspondientes organismos públicos, siendo todos los gastos a cargo del comprador.\\n4ª) Una vez realizada la correspondiente transferencia en Tráfico, el vendedor entregará materialmente al comprador la posesión del vehículo, haciéndose el comprador cargo de cuantas responsabilidades puedan contraerse por la propiedad del vehículo y su tenencia y uso a partir de dicho momento de la entrega.\\n5ª) El vehículo dispone de seguro en vigor hasta fecha de………………… y se encuentra al corriente respecto a las obligaciones derivadas de la ITV (Inspección Técnica de Vehículos).\\n6ª) El comprador declara conocer el estado actual del vehículo, por lo que exime al vendedor de garantía por vicios o defectos que surjan con posterioridad a la entrega, salvo aquellos ocultos que tengan su origen en dolo o mala fe del vendedor.\\n7ª) Para cualquier litigio que surja entre las partes de la interpretación o cumplimiento del presente contrato, éstas, con expresa renuncia al fuero que pudiera corresponderles, se someterán a los Juzgados y Tribunales de............................\\nY para que así conste, firman el presente contrato de compraventa, por triplicado, en la fecha y lugar arriba indicados.\\nFirma del vendedor Firma del comprador\"\n",
        "\n",
        "# Ejemplo para Explicar\n",
        "user_input = \"¿En este contrato el vendedor ofrece algun tipo de garantía sobre el vehiculo adquirido?\"\n",
        "result = explain_text(user_input, document_text)\n",
        "print(f\"Resultado: {result}\")\n",
        "\n",
        "# Ejemplo para Traducir\n",
        "target_language = \"portugués\"\n",
        "result = translate(document_text, target_language)\n",
        "print(f\"Resultado: {result}\")\n",
        "\n",
        "# Ejemplo para Resumir\n",
        "summary_length = \"medio\"\n",
        "result = summarize(document_text, summary_length)\n",
        "print(f\"Resultado: {result}\")"
      ],
      "metadata": {
        "id": "uMyhBQYPWlfK"
      },
      "execution_count": null,
      "outputs": []
    }
  ]
}